{
 "cells": [
  {
   "cell_type": "markdown",
   "metadata": {},
   "source": [
    "## Loading the packages"
   ]
  },
  {
   "cell_type": "code",
   "execution_count": 1,
   "metadata": {},
   "outputs": [
    {
     "name": "stderr",
     "output_type": "stream",
     "text": [
      "/anaconda3/lib/python3.6/site-packages/h5py/__init__.py:36: FutureWarning: Conversion of the second argument of issubdtype from `float` to `np.floating` is deprecated. In future, it will be treated as `np.float64 == np.dtype(float).type`.\n",
      "  from ._conv import register_converters as _register_converters\n",
      "Using TensorFlow backend.\n"
     ]
    }
   ],
   "source": [
    "import os\n",
    "import numpy as np\n",
    "\n",
    "import utils.ImagesProcessor as ip\n",
    "from sklearn import svm\n",
    "from sklearn.metrics import accuracy_score\n",
    "from sklearn.metrics import confusion_matrix\n",
    "\n",
    "import matplotlib.pyplot as plt\n",
    "from mpl_toolkits.mplot3d import Axes3D\n",
    "from matplotlib import cm\n",
    "from matplotlib.ticker import LinearLocator, FormatStrFormatter\n",
    "import itertools\n",
    "import time\n",
    "\n",
    "import models.CAE as cae\n",
    "\n",
    "ratioTrainTest = 0.8\n",
    "inputShape = np.array([300, 300, 3])"
   ]
  },
  {
   "cell_type": "markdown",
   "metadata": {},
   "source": [
    "## Loading the datasets"
   ]
  },
  {
   "cell_type": "code",
   "execution_count": 2,
   "metadata": {},
   "outputs": [],
   "source": [
    "def loadImages(directory_name):\n",
    "    directory = os.fsencode(directory_name)\n",
    "    imgs = []\n",
    "    filenames = []\n",
    "    for file in os.listdir(directory):\n",
    "        filename = os.fsdecode(file)\n",
    "        if filename.lower().endswith(\".jpg\"): \n",
    "            img = IP.readImage(directory_name + \"/\" + filename)\n",
    "            img = IP.resizeImage(img, inputShape[:-1])\n",
    "            img = IP.extractChromaticity(img)\n",
    "            imgs.append(img)\n",
    "            filenames.append(filename)\n",
    "    return np.array(imgs), filenames"
   ]
  },
  {
   "cell_type": "code",
   "execution_count": 3,
   "metadata": {},
   "outputs": [
    {
     "name": "stderr",
     "output_type": "stream",
     "text": [
      "/anaconda3/lib/python3.6/site-packages/scipy/stats/stats.py:313: RuntimeWarning: divide by zero encountered in log\n",
      "  log_a = np.log(a)\n"
     ]
    }
   ],
   "source": [
    "TRAINING_PATH = \"datasets/jardin_landscape/validation/dataset_train\"\n",
    "NORMAL_PATH = \"datasets/jardin_landscape/validation/dataset_normal\"\n",
    "ANOMALY_PATH = \"datasets/jardin_landscape/validation/dataset_anomaly\"\n",
    "IP = ip.ImagesProcessor()\n",
    "\n",
    "# Load the images\n",
    "X_train, trainFilenames = loadImages(TRAINING_PATH)\n",
    "X_normal, normalFilenames= loadImages(NORMAL_PATH)\n",
    "X_anomaly, anomalyFilenames = loadImages(ANOMALY_PATH)\n",
    "\n",
    "# Normalize them\n",
    "X_train = X_train.astype('float32')/255\n",
    "X_normal = X_normal.astype('float32')/255\n",
    "X_anomaly = X_anomaly.astype('float32')/255"
   ]
  },
  {
   "cell_type": "code",
   "execution_count": 4,
   "metadata": {},
   "outputs": [
    {
     "name": "stdout",
     "output_type": "stream",
     "text": [
      "(8, 300, 300, 3)\n",
      "(12, 300, 300, 3)\n",
      "(18, 300, 300, 3)\n"
     ]
    }
   ],
   "source": [
    "print(X_train.shape)\n",
    "#print(X_train)\n",
    "print(X_normal.shape)\n",
    "#print(X_normal)\n",
    "print(X_anomaly.shape)\n",
    "#print(X_anomaly)\n",
    "#print(X)"
   ]
  },
  {
   "cell_type": "markdown",
   "metadata": {},
   "source": [
    "## Explore  parameters"
   ]
  },
  {
   "cell_type": "code",
   "execution_count": 5,
   "metadata": {},
   "outputs": [],
   "source": [
    "def testCAE(nbNeuronsLayer1, nbNeuronsLayer2, nbNeuronsLayer3, batch_size, sizeDataset):\n",
    "    print(\"Testing:\",  nbNeuronsLayer1, \", \", nbNeuronsLayer2, \", \", nbNeuronsLayer3, \", \",batch_size)\n",
    "    time1 = time.time()\n",
    "    np.random.shuffle(X_train)\n",
    "    x_train = X_train[0:sizeDataset]\n",
    "    x_train = x_train[:int(ratioTrainTest*len(x_train))]\n",
    "    x_test = x_train[int(ratioTrainTest*len(x_train)):]\n",
    "    autoencoder = cae.CAE(inputShape,nbNeuronsLayers=[nbNeuronsLayer1, nbNeuronsLayer2, nbNeuronsLayer3], nbConvFilters=(3,3), poolScale=(2, 2))\n",
    "    autoencoder.createModel()\n",
    "    autoencoder.train(x_train, x_test, epochs=100, batch_size=batch_size)\n",
    "    autoencoder.getDeltaError()\n",
    "    \n",
    "    pred_ref = autoencoder.predict(X_train)\n",
    "    #print(\"ref:\", pred_ref)\n",
    "    #print(trainFilenames)\n",
    "    pred_nor = autoencoder.predict(X_normal)\n",
    "    #print(\"normal:\", pred_nor)\n",
    "    #print(normalFilenames)\n",
    "    pred_ano = autoencoder.predict(X_anomaly)\n",
    "    #print(\"anomalies:\", pred_ano)\n",
    "    #print(anomalyFilenames)\n",
    "    autoencoder.freeMemory()\n",
    "    del autoencoder\n",
    "    time2 = time.time()\n",
    "    return accuracy_score(np.append(pred_nor, pred_ano), [1]*len(pred_nor) + [-1]*len(pred_ano)), (time2-time1)*1000\n",
    "#print(testCAE([32, 32, 32], 7))"
   ]
  },
  {
   "cell_type": "code",
   "execution_count": 6,
   "metadata": {},
   "outputs": [],
   "source": [
    "def generateRandomsParameters(n):\n",
    "    layer1 = np.random.randint(1, 64, n)\n",
    "    layer2 = np.random.randint(1, 64, n)\n",
    "    layer3 = np.random.randint(1, 64, n)\n",
    "    batch_sizes = np.random.randint(1, 8, n)\n",
    "    return np.array([layer1, layer2, layer3, batch_sizes]).T\n",
    "         "
   ]
  },
  {
   "cell_type": "code",
   "execution_count": 7,
   "metadata": {},
   "outputs": [
    {
     "data": {
      "text/plain": [
       "' \\nhyperParameters = generateRandomsParameters(20)\\naccurencies = []\\n\\nfor parameter in hyperParameters:\\n    accurencies.append((parameter, testCAE(parameter[0], parameter[1], parameter[2], parameter[3])))\\nprint(accurencies)\\n'"
      ]
     },
     "execution_count": 7,
     "metadata": {},
     "output_type": "execute_result"
    }
   ],
   "source": [
    "''' \n",
    "hyperParameters = generateRandomsParameters(20)\n",
    "accurencies = []\n",
    "\n",
    "for parameter in hyperParameters:\n",
    "    accurencies.append((parameter, testCAE(parameter[0], parameter[1], parameter[2], parameter[3])))\n",
    "print(accurencies)\n",
    "'''"
   ]
  },
  {
   "cell_type": "code",
   "execution_count": 8,
   "metadata": {},
   "outputs": [
    {
     "data": {
      "text/plain": [
       "\"\\ndatasetSize = np.arange(2,8,1)\\nfig, axe1 = plt.subplots()\\naxes = [testCAE(16, 8, 8, 2, sizeDataset=x) for x in datasetSize]\\naccurencies = [i[0] for i in axes]\\ntimes = [i[1] for i in axes]\\nprint(accurencies)\\ngraph = axe1.plot(datasetSize, accurencies, 'r')\\naxe1.set_xlabel('number of train samples')\\naxe1.set_ylabel('Accuracy', color='r')\\n\\naxe2 = axe1.twinx()\\naxe2.plot(datasetSize, times, 'b')\\naxe2.set_ylabel('Time(s)', color='b')\\nplt.show()\\n\""
      ]
     },
     "execution_count": 8,
     "metadata": {},
     "output_type": "execute_result"
    }
   ],
   "source": [
    "'''\n",
    "datasetSize = np.arange(2,8,1)\n",
    "fig, axe1 = plt.subplots()\n",
    "axes = [testCAE(16, 8, 8, 2, sizeDataset=x) for x in datasetSize]\n",
    "accurencies = [i[0] for i in axes]\n",
    "times = [i[1] for i in axes]\n",
    "print(accurencies)\n",
    "graph = axe1.plot(datasetSize, accurencies, 'r')\n",
    "axe1.set_xlabel('number of train samples')\n",
    "axe1.set_ylabel('Accuracy', color='r')\n",
    "\n",
    "axe2 = axe1.twinx()\n",
    "axe2.plot(datasetSize, times, 'b')\n",
    "axe2.set_ylabel('Time(s)', color='b')\n",
    "plt.show()\n",
    "'''"
   ]
  },
  {
   "cell_type": "code",
   "execution_count": 9,
   "metadata": {},
   "outputs": [],
   "source": [
    "#accurencies.sort(key=lambda x: x[1])\n",
    "#print(accurencies)"
   ]
  },
  {
   "cell_type": "markdown",
   "metadata": {},
   "source": [
    "## Final Model"
   ]
  },
  {
   "cell_type": "code",
   "execution_count": 10,
   "metadata": {},
   "outputs": [
    {
     "name": "stdout",
     "output_type": "stream",
     "text": [
      "_________________________________________________________________\n",
      "Layer (type)                 Output Shape              Param #   \n",
      "=================================================================\n",
      "input_1 (InputLayer)         (None, 300, 300, 3)       0         \n",
      "_________________________________________________________________\n",
      "conv2d_1 (Conv2D)            (None, 300, 300, 16)      448       \n",
      "_________________________________________________________________\n",
      "max_pooling2d_1 (MaxPooling2 (None, 150, 150, 16)      0         \n",
      "_________________________________________________________________\n",
      "conv2d_2 (Conv2D)            (None, 150, 150, 8)       1160      \n",
      "_________________________________________________________________\n",
      "max_pooling2d_2 (MaxPooling2 (None, 75, 75, 8)         0         \n",
      "_________________________________________________________________\n",
      "conv2d_3 (Conv2D)            (None, 75, 75, 8)         584       \n",
      "_________________________________________________________________\n",
      "max_pooling2d_3 (MaxPooling2 (None, 38, 38, 8)         0         \n",
      "_________________________________________________________________\n",
      "conv2d_4 (Conv2D)            (None, 38, 38, 8)         584       \n",
      "_________________________________________________________________\n",
      "up_sampling2d_1 (UpSampling2 (None, 76, 76, 8)         0         \n",
      "_________________________________________________________________\n",
      "conv2d_5 (Conv2D)            (None, 76, 76, 8)         584       \n",
      "_________________________________________________________________\n",
      "up_sampling2d_2 (UpSampling2 (None, 152, 152, 8)       0         \n",
      "_________________________________________________________________\n",
      "conv2d_6 (Conv2D)            (None, 150, 150, 16)      1168      \n",
      "_________________________________________________________________\n",
      "up_sampling2d_3 (UpSampling2 (None, 300, 300, 16)      0         \n",
      "_________________________________________________________________\n",
      "conv2d_7 (Conv2D)            (None, 300, 300, 3)       435       \n",
      "=================================================================\n",
      "Total params: 4,963\n",
      "Trainable params: 4,963\n",
      "Non-trainable params: 0\n",
      "_________________________________________________________________\n",
      "None\n",
      "_________________________________________________________________\n",
      "Layer (type)                 Output Shape              Param #   \n",
      "=================================================================\n",
      "input_1 (InputLayer)         (None, 300, 300, 3)       0         \n",
      "_________________________________________________________________\n",
      "conv2d_1 (Conv2D)            (None, 300, 300, 16)      448       \n",
      "_________________________________________________________________\n",
      "max_pooling2d_1 (MaxPooling2 (None, 150, 150, 16)      0         \n",
      "_________________________________________________________________\n",
      "conv2d_2 (Conv2D)            (None, 150, 150, 8)       1160      \n",
      "_________________________________________________________________\n",
      "max_pooling2d_2 (MaxPooling2 (None, 75, 75, 8)         0         \n",
      "_________________________________________________________________\n",
      "conv2d_3 (Conv2D)            (None, 75, 75, 8)         584       \n",
      "_________________________________________________________________\n",
      "max_pooling2d_3 (MaxPooling2 (None, 38, 38, 8)         0         \n",
      "=================================================================\n",
      "Total params: 2,192\n",
      "Trainable params: 2,192\n",
      "Non-trainable params: 0\n",
      "_________________________________________________________________\n",
      "None\n",
      "WARNING:tensorflow:From /anaconda3/lib/python3.6/site-packages/tensorflow/contrib/learn/python/learn/datasets/base.py:198: retry (from tensorflow.contrib.learn.python.learn.datasets.base) is deprecated and will be removed in a future version.\n",
      "Instructions for updating:\n",
      "Use the retry module or similar alternatives.\n",
      "Train on 6 samples, validate on 2 samples\n",
      "Epoch 1/300\n",
      "6/6 [==============================] - 1s 250ms/step - loss: 0.0954 - val_loss: 0.0723\n",
      "Epoch 2/300\n",
      "6/6 [==============================] - 1s 213ms/step - loss: 0.0755 - val_loss: 0.0552\n",
      "Epoch 3/300\n",
      "6/6 [==============================] - 1s 231ms/step - loss: 0.0609 - val_loss: 0.0408\n",
      "Epoch 4/300\n",
      "6/6 [==============================] - 1s 222ms/step - loss: 0.0457 - val_loss: 0.0308\n",
      "Epoch 5/300\n",
      "6/6 [==============================] - 1s 216ms/step - loss: 0.0330 - val_loss: 0.0222\n",
      "Epoch 6/300\n",
      "6/6 [==============================] - 1s 211ms/step - loss: 0.0238 - val_loss: 0.0146\n",
      "Epoch 7/300\n",
      "6/6 [==============================] - 1s 230ms/step - loss: 0.0139 - val_loss: 0.0068\n",
      "Epoch 8/300\n",
      "6/6 [==============================] - 1s 202ms/step - loss: 0.0065 - val_loss: 0.0026\n",
      "Epoch 9/300\n",
      "6/6 [==============================] - 1s 240ms/step - loss: 0.0034 - val_loss: 0.0028\n",
      "Epoch 10/300\n",
      "6/6 [==============================] - 2s 260ms/step - loss: 0.0031 - val_loss: 0.0045\n",
      "Epoch 11/300\n",
      "6/6 [==============================] - 2s 252ms/step - loss: 0.0040 - val_loss: 0.0060\n",
      "Epoch 12/300\n",
      "6/6 [==============================] - 2s 252ms/step - loss: 0.0044 - val_loss: 0.0062\n",
      "Epoch 13/300\n",
      "6/6 [==============================] - 1s 247ms/step - loss: 0.0040 - val_loss: 0.0054\n",
      "Epoch 14/300\n",
      "6/6 [==============================] - 2s 268ms/step - loss: 0.0032 - val_loss: 0.0041\n",
      "Epoch 15/300\n",
      "6/6 [==============================] - 2s 353ms/step - loss: 0.0025 - val_loss: 0.0030\n",
      "Epoch 16/300\n",
      "6/6 [==============================] - 2s 406ms/step - loss: 0.0023 - val_loss: 0.0024\n",
      "Epoch 17/300\n",
      "6/6 [==============================] - 2s 393ms/step - loss: 0.0022 - val_loss: 0.0023\n",
      "Epoch 18/300\n",
      "6/6 [==============================] - 2s 390ms/step - loss: 0.0023 - val_loss: 0.0021\n",
      "Epoch 19/300\n",
      "6/6 [==============================] - 2s 313ms/step - loss: 0.0023 - val_loss: 0.0021\n",
      "Epoch 20/300\n",
      "6/6 [==============================] - 2s 275ms/step - loss: 0.0023 - val_loss: 0.0021\n",
      "Epoch 21/300\n",
      "6/6 [==============================] - 1s 229ms/step - loss: 0.0022 - val_loss: 0.0023\n",
      "Epoch 22/300\n",
      "6/6 [==============================] - 1s 233ms/step - loss: 0.0021 - val_loss: 0.0025\n",
      "Epoch 23/300\n",
      "6/6 [==============================] - 1s 243ms/step - loss: 0.0021 - val_loss: 0.0024\n",
      "Epoch 24/300\n",
      "6/6 [==============================] - 1s 243ms/step - loss: 0.0021 - val_loss: 0.0024\n",
      "Epoch 25/300\n",
      "6/6 [==============================] - 2s 294ms/step - loss: 0.0021 - val_loss: 0.0025\n",
      "Epoch 26/300\n",
      "6/6 [==============================] - 2s 263ms/step - loss: 0.0020 - val_loss: 0.0026\n",
      "Epoch 27/300\n",
      "6/6 [==============================] - 1s 242ms/step - loss: 0.0020 - val_loss: 0.0026\n",
      "Epoch 28/300\n",
      "6/6 [==============================] - 1s 234ms/step - loss: 0.0020 - val_loss: 0.0025\n",
      "Epoch 29/300\n",
      "6/6 [==============================] - 1s 234ms/step - loss: 0.0020 - val_loss: 0.0024\n",
      "Epoch 30/300\n",
      "6/6 [==============================] - 1s 236ms/step - loss: 0.0020 - val_loss: 0.0023\n",
      "Epoch 31/300\n",
      "6/6 [==============================] - 1s 224ms/step - loss: 0.0020 - val_loss: 0.0024\n",
      "Epoch 32/300\n",
      "6/6 [==============================] - 2s 263ms/step - loss: 0.0020 - val_loss: 0.0023\n",
      "Epoch 33/300\n",
      "6/6 [==============================] - 2s 283ms/step - loss: 0.0020 - val_loss: 0.0024\n",
      "Epoch 34/300\n",
      "6/6 [==============================] - 1s 246ms/step - loss: 0.0020 - val_loss: 0.0023\n",
      "Epoch 35/300\n",
      "6/6 [==============================] - 1s 215ms/step - loss: 0.0019 - val_loss: 0.0023\n",
      "Epoch 36/300\n",
      "6/6 [==============================] - 1s 209ms/step - loss: 0.0019 - val_loss: 0.0023\n",
      "Epoch 37/300\n",
      "6/6 [==============================] - 1s 201ms/step - loss: 0.0019 - val_loss: 0.0023\n",
      "Epoch 38/300\n",
      "6/6 [==============================] - 1s 192ms/step - loss: 0.0019 - val_loss: 0.0023\n",
      "Epoch 39/300\n",
      "6/6 [==============================] - 1s 185ms/step - loss: 0.0019 - val_loss: 0.0022\n",
      "Epoch 40/300\n",
      "6/6 [==============================] - 1s 195ms/step - loss: 0.0019 - val_loss: 0.0023\n",
      "Epoch 41/300\n",
      "6/6 [==============================] - 1s 197ms/step - loss: 0.0019 - val_loss: 0.0023\n",
      "Epoch 42/300\n",
      "6/6 [==============================] - 1s 190ms/step - loss: 0.0019 - val_loss: 0.0023\n",
      "Epoch 43/300\n",
      "6/6 [==============================] - 1s 226ms/step - loss: 0.0019 - val_loss: 0.0023\n",
      "Epoch 44/300\n",
      "6/6 [==============================] - 1s 231ms/step - loss: 0.0019 - val_loss: 0.0022\n"
     ]
    },
    {
     "name": "stdout",
     "output_type": "stream",
     "text": [
      "Epoch 45/300\n",
      "6/6 [==============================] - 1s 237ms/step - loss: 0.0019 - val_loss: 0.0021\n",
      "Epoch 46/300\n",
      "6/6 [==============================] - 1s 209ms/step - loss: 0.0019 - val_loss: 0.0022\n",
      "Epoch 47/300\n",
      "6/6 [==============================] - 1s 194ms/step - loss: 0.0019 - val_loss: 0.0023\n",
      "Epoch 48/300\n",
      "6/6 [==============================] - 1s 211ms/step - loss: 0.0019 - val_loss: 0.0022\n",
      "Epoch 49/300\n",
      "6/6 [==============================] - 1s 235ms/step - loss: 0.0018 - val_loss: 0.0022\n",
      "errors_ref:  [0.00138168 0.00140164 0.0014339  0.00207056 0.0021465  0.00221234\n",
      " 0.0023838  0.00239298]\n",
      "delta_error:  0.002255207044072449\n"
     ]
    }
   ],
   "source": [
    "x_train = X_train[:int(ratioTrainTest*len(X_train))]\n",
    "x_test = X_train[int(ratioTrainTest*len(X_train)):]\n",
    "autoencoder = cae.CAE(inputShape,nbNeuronsLayers=[16, 8, 8], nbConvFilters=(3,3), poolScale=(2, 2))\n",
    "autoencoder.createModel()\n",
    "autoencoder.train(x_train, x_test, epochs=300, batch_size=2)\n",
    "autoencoder.getDeltaError()\n",
    "\n",
    "pred_ref = autoencoder.predict(X_train)\n",
    "pred_nor = autoencoder.predict(X_normal)\n",
    "pred_ano = autoencoder.predict(X_anomaly)"
   ]
  },
  {
   "cell_type": "code",
   "execution_count": null,
   "metadata": {},
   "outputs": [],
   "source": []
  },
  {
   "cell_type": "code",
   "execution_count": 11,
   "metadata": {},
   "outputs": [
    {
     "data": {
      "image/png": "[encoded data removed]",
      "text/plain": [
       "<matplotlib.figure.Figure at 0x1c2e7745f8>"
      ]
     },
     "metadata": {},
     "output_type": "display_data"
    }
   ],
   "source": [
    "conf_mat = confusion_matrix(np.append(pred_nor, pred_ano), [1]*len(pred_nor) + [-1]*len(pred_ano))\n",
    "\n",
    "def plot_confusion_matrix(cm, title='Confusion matrix', cmap=plt.cm.Blues):     \n",
    "    labels_names_ref = [\"Anomalie\", \"Normal\"]\n",
    "        \n",
    "    plt.imshow(cm, interpolation='nearest', cmap=cmap)\n",
    "    plt.title(title)\n",
    "    plt.colorbar()\n",
    "    tick_marks = np.arange(len(labels_names_ref))\n",
    "    plt.xticks(tick_marks, labels_names_ref, rotation=45)\n",
    "    plt.yticks(tick_marks, labels_names_ref)\n",
    "    plt.tight_layout()\n",
    "    plt.ylabel('Predicted label')\n",
    "    plt.xlabel('True label')\n",
    "\n",
    "    thresh = cm.max() / 2.\n",
    "    for i, j in itertools.product(range(cm.shape[0]), range(cm.shape[1])):\n",
    "        plt.text(j, i, format(cm[i, j]),\n",
    "                 horizontalalignment=\"center\",\n",
    "                 color=\"white\" if cm[i, j] > thresh else \"black\")\n",
    "        \n",
    "plot_confusion_matrix(conf_mat)"
   ]
  },
  {
   "cell_type": "code",
   "execution_count": 12,
   "metadata": {},
   "outputs": [
    {
     "name": "stdout",
     "output_type": "stream",
     "text": [
      "Accuracy: 0.6\n",
      "Precision:  0.625\n",
      "Recall:  0.625\n",
      "F1-Score:  0.625\n"
     ]
    }
   ],
   "source": [
    "print(\"Accuracy:\", accuracy_score(np.append(pred_nor, pred_ano), [1]*len(pred_nor) + [-1]*len(pred_ano)))\n",
    "precision = (conf_mat[0][0]/(conf_mat[0][0] + conf_mat[1][0]) + conf_mat[1][1]/(conf_mat[1][1] + conf_mat[0][1]))/2\n",
    "print(\"Precision: \", precision)\n",
    "recall = (conf_mat[0][0]/(conf_mat[0][0] + conf_mat[0][1]) + conf_mat[1][1]/(conf_mat[1][1] + conf_mat[1][0]))/2\n",
    "print(\"Recall: \", recall)\n",
    "f1score = 2*(precision*recall)/(precision+recall)\n",
    "print(\"F1-Score: \", f1score)"
   ]
  },
  {
   "cell_type": "code",
   "execution_count": 13,
   "metadata": {},
   "outputs": [
    {
     "name": "stdout",
     "output_type": "stream",
     "text": [
      "NA_IMG_0360.jpg  -  1\n",
      "NA_IMG_0362.jpg  -  1\n",
      "NA_IMG_0376.jpg  -  1\n",
      "NA_0244.jpg  -  -1\n",
      "NA_IMG_0411.jpg  -  -1\n",
      "NA_0240.jpg  -  -1\n",
      "NA_IMG_0366.jpg  -  1\n",
      "NA_IMG_0428.jpg  -  1\n",
      "NA_IMG_0370.jpg  -  1\n",
      "NA_IMG_0364.jpg  -  1\n",
      "NA_IMG_0385.jpg  -  1\n",
      "NA_IMG_0278.jpg  -  1\n",
      "A_IMG_0321.jpg  -  -1\n",
      "A_IMG_0322.jpg  -  1\n",
      "HA_IMG_0425.jpg  -  -1\n",
      "HA_IMG_0424.jpg  -  -1\n",
      "HA_IMG_0418.jpg  -  -1\n",
      "A_IMG_0423.jpg  -  -1\n",
      "A_IMG_0345.jpg  -  1\n",
      "A_IMG_0390.jpg  -  1\n",
      "A_IMG_0409.jpg  -  -1\n",
      "A_IMG_0353.jpg  -  1\n",
      "A_IMG_0395.jpg  -  1\n",
      "HA_IMG_0420.jpg  -  -1\n",
      "A_IMG_0417.jpg  -  -1\n",
      "A_IMG_0402.jpg  -  1\n",
      "A_IMG_0413.jpg  -  -1\n",
      "A_IMG_0272.jpg  -  1\n",
      "A_IMG_0271.jpg  -  1\n",
      "A_IMG_0329.jpg  -  1\n"
     ]
    }
   ],
   "source": [
    "for i in range(len(normalFilenames)):\n",
    "    print(normalFilenames[i], \" - \", pred_nor[i])\n",
    "for i in range(len(anomalyFilenames)):\n",
    "    print(anomalyFilenames[i], \" - \", pred_ano[i])"
   ]
  }
 ],
 "metadata": {
  "kernelspec": {
   "display_name": "Python 3",
   "language": "python",
   "name": "python3"
  },
  "language_info": {
   "codemirror_mode": {
    "name": "ipython",
    "version": 3
   },
   "file_extension": ".py",
   "mimetype": "text/x-python",
   "name": "python",
   "nbconvert_exporter": "python",
   "pygments_lexer": "ipython3",
   "version": "3.6.4"
  }
 },
 "nbformat": 4,
 "nbformat_minor": 2
}
