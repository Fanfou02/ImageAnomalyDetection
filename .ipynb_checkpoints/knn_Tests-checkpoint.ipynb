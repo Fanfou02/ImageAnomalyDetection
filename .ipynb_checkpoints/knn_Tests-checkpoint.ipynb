{
 "cells": [
  {
   "cell_type": "markdown",
   "metadata": {},
   "source": [
    "## Loading the packages"
   ]
  },
  {
   "cell_type": "code",
   "execution_count": 1,
   "metadata": {},
   "outputs": [
    {
     "name": "stderr",
     "output_type": "stream",
     "text": [
      "/anaconda3/lib/python3.6/site-packages/h5py/__init__.py:36: FutureWarning: Conversion of the second argument of issubdtype from `float` to `np.floating` is deprecated. In future, it will be treated as `np.float64 == np.dtype(float).type`.\n",
      "  from ._conv import register_converters as _register_converters\n",
      "Using TensorFlow backend.\n"
     ]
    }
   ],
   "source": [
    "import os\n",
    "import numpy as np\n",
    "\n",
    "import utils.ImagesProcessor as ip\n",
    "from sklearn import svm\n",
    "from sklearn.metrics import accuracy_score\n",
    "from sklearn.metrics import confusion_matrix\n",
    "\n",
    "import matplotlib.pyplot as plt\n",
    "from mpl_toolkits.mplot3d import Axes3D\n",
    "from matplotlib import cm\n",
    "from matplotlib.ticker import LinearLocator, FormatStrFormatter\n",
    "import itertools\n",
    "\n",
    "import models.CAE as cae\n",
    "\n",
    "slicesSize = np.array([28, 28, 3])\n",
    "overlap = 10\n",
    "ratioTrainTest = 0.8\n",
    "inputShape = np.array([300, 300, 3])"
   ]
  },
  {
   "cell_type": "markdown",
   "metadata": {},
   "source": [
    "## Loading the datasets"
   ]
  },
  {
   "cell_type": "code",
   "execution_count": 2,
   "metadata": {},
   "outputs": [],
   "source": [
    "def loadImages(directory_name):\n",
    "    directory = os.fsencode(directory_name)\n",
    "    imgs = []\n",
    "    filenames = []\n",
    "    for file in os.listdir(directory):\n",
    "        filename = os.fsdecode(file)\n",
    "        if filename.lower().endswith(\".jpg\"): \n",
    "            img = IP.readImage(directory_name + \"/\" + filename)\n",
    "            img = IP.resizeImage(img, inputShape[:-1])\n",
    "            img = IP.extractChromaticity(img)\n",
    "            imgs.append(img)\n",
    "            filenames.append(filename)\n",
    "    return np.array(imgs), filenames"
   ]
  },
  {
   "cell_type": "code",
   "execution_count": 3,
   "metadata": {},
   "outputs": [
    {
     "name": "stderr",
     "output_type": "stream",
     "text": [
      "/anaconda3/lib/python3.6/site-packages/scipy/stats/stats.py:313: RuntimeWarning: divide by zero encountered in log\n",
      "  log_a = np.log(a)\n"
     ]
    }
   ],
   "source": [
    "TRAINING_PATH = \"dataset_train\"\n",
    "NORMAL_PATH = \"dataset_normal\"\n",
    "ANOMALY_PATH = \"dataset_anomaly\"\n",
    "IP = ip.ImagesProcessor()\n",
    "\n",
    "# Load the images\n",
    "X_train, trainFilenames = loadImages(TRAINING_PATH)\n",
    "X_normal, normalFilenames= loadImages(NORMAL_PATH)\n",
    "X_anomaly, anomalyFilenames = loadImages(ANOMALY_PATH)\n",
    "\n",
    "# Normalize them\n",
    "X_train = X_train.astype('float32')/255\n",
    "X_normal = X_normal.astype('float32')/255\n",
    "X_anomaly = X_anomaly.astype('float32')/255"
   ]
  },
  {
   "cell_type": "code",
   "execution_count": 4,
   "metadata": {},
   "outputs": [
    {
     "name": "stdout",
     "output_type": "stream",
     "text": [
      "(7, 300, 300, 3)\n",
      "(12, 300, 300, 3)\n",
      "(14, 300, 300, 3)\n"
     ]
    }
   ],
   "source": [
    "print(X_train.shape)\n",
    "#print(X_train)\n",
    "print(X_normal.shape)\n",
    "#print(X_normal)\n",
    "print(X_anomaly.shape)\n",
    "#print(X_anomaly)\n",
    "#print(X)"
   ]
  },
  {
   "cell_type": "markdown",
   "metadata": {},
   "source": [
    "## Explore  parameters"
   ]
  },
  {
   "cell_type": "code",
   "execution_count": 5,
   "metadata": {},
   "outputs": [],
   "source": [
    "def testCAE(nbNeuronsLayer1, nbNeuronsLayer2):\n",
    "    np.random.shuffle(X_train)\n",
    "    x_train = X_train[:int(ratioTrainTest*len(X_train))]\n",
    "    x_test = X_train[int(ratioTrainTest*len(X_train)):]\n",
    "    autoencoder = cae.CAE(inputShape,nbNeuronsLayers=[nbNeuronsLayer1, nbNeuronsLayer2, nbNeuronsLayer2], nbConvFilters=(3,3), poolScale=(2, 2))\n",
    "    autoencoder.createModel()\n",
    "    autoencoder.train(x_train, x_test, epochs=1, batch_size=1)\n",
    "    \n",
    "    pred_ref = autoencoder.predict(X_train)\n",
    "    print(\"ref:\", pred_ref)\n",
    "    #print(trainFilenames)\n",
    "    pred_nor = autoencoder.predict(X_normal)\n",
    "    print(\"normal:\", pred_nor)\n",
    "    #print(normalFilenames)\n",
    "    pred_ano = autoencoder.predict(X_anomaly)\n",
    "    print(\"anomalies:\", pred_ano)\n",
    "    #print(anomalyFilenames)\n",
    "    return accuracy_score(np.append(pred_nor, pred_ano), [1]*len(pred_nor) + [-1]*len(pred_ano))\n",
    "#print(testCAE())"
   ]
  },
  {
   "cell_type": "code",
   "execution_count": null,
   "metadata": {},
   "outputs": [],
   "source": []
  },
  {
   "cell_type": "code",
   "execution_count": 6,
   "metadata": {},
   "outputs": [
    {
     "data": {
      "text/plain": [
       "\"\\nnbNeuronsLayer1 = [128, 64, 32, 16, 8]\\nnbNeuronsLayer2 = [128, 64, 32, 16, 8]\\n\\nfig = plt.figure(num=None, figsize=(15, 10), dpi=80, facecolor='w', edgecolor='k')\\nax = fig.gca(projection='3d')\\n\\n# Make data.\\nnbNeuronsLayer1, nbNeuronsLayer2 = np.meshgrid(nbNeuronsLayer1, nbNeuronsLayer2)\\n\\naccurencies = np.array([testCAE(x,y) for x,y in zip(np.ravel(nbNeuronsLayer1), np.ravel(nbNeuronsLayer2))])\\naccurencies = accurencies.reshape(nbNeuronsLayer2.shape)\\n\\ngraph = ax.plot_surface(nbNeuronsLayer1, nbNeuronsLayer2, accurencies, cmap=cm.coolwarm,\\n                       linewidth=0, antialiased=False)\\n\\nax.set_xlabel('nbNeuronsLayer1')\\nax.set_ylabel('nbNeuronsLayer2 Parameter')\\nax.set_zlabel('Accuracy')\\n\\n# Customize the z axis.\\nax.set_zlim(0, 1.00)\\nax.zaxis.set_major_locator(LinearLocator(10))\\nax.zaxis.set_major_formatter(FormatStrFormatter('%.02f'))\\n\\n# Add a color bar which maps values to colors.\\nfig.colorbar(graph, shrink=0.5, aspect=5)\\n\\nplt.show()\\n\""
      ]
     },
     "execution_count": 6,
     "metadata": {},
     "output_type": "execute_result"
    }
   ],
   "source": [
    "'''\n",
    "nbNeuronsLayer1 = [128, 64, 32, 16, 8]\n",
    "nbNeuronsLayer2 = [128, 64, 32, 16, 8]\n",
    "\n",
    "fig = plt.figure(num=None, figsize=(15, 10), dpi=80, facecolor='w', edgecolor='k')\n",
    "ax = fig.gca(projection='3d')\n",
    "\n",
    "# Make data.\n",
    "nbNeuronsLayer1, nbNeuronsLayer2 = np.meshgrid(nbNeuronsLayer1, nbNeuronsLayer2)\n",
    "\n",
    "accurencies = np.array([testCAE(x,y) for x,y in zip(np.ravel(nbNeuronsLayer1), np.ravel(nbNeuronsLayer2))])\n",
    "accurencies = accurencies.reshape(nbNeuronsLayer2.shape)\n",
    "\n",
    "graph = ax.plot_surface(nbNeuronsLayer1, nbNeuronsLayer2, accurencies, cmap=cm.coolwarm,\n",
    "                       linewidth=0, antialiased=False)\n",
    "\n",
    "ax.set_xlabel('nbNeuronsLayer1')\n",
    "ax.set_ylabel('nbNeuronsLayer2 Parameter')\n",
    "ax.set_zlabel('Accuracy')\n",
    "\n",
    "# Customize the z axis.\n",
    "ax.set_zlim(0, 1.00)\n",
    "ax.zaxis.set_major_locator(LinearLocator(10))\n",
    "ax.zaxis.set_major_formatter(FormatStrFormatter('%.02f'))\n",
    "\n",
    "# Add a color bar which maps values to colors.\n",
    "fig.colorbar(graph, shrink=0.5, aspect=5)\n",
    "\n",
    "plt.show()\n",
    "'''"
   ]
  },
  {
   "cell_type": "markdown",
   "metadata": {},
   "source": [
    "## Final Model"
   ]
  },
  {
   "cell_type": "code",
   "execution_count": null,
   "metadata": {},
   "outputs": [
    {
     "name": "stdout",
     "output_type": "stream",
     "text": [
      "Train on 5 samples, validate on 2 samples\n",
      "Epoch 1/300\n",
      "5/5 [==============================] - 6s 1s/step - loss: 0.0302 - val_loss: 0.0282\n",
      "Epoch 2/300\n",
      "5/5 [==============================] - 1s 195ms/step - loss: 0.0238 - val_loss: 0.0196\n",
      "Epoch 3/300\n",
      "5/5 [==============================] - 1s 185ms/step - loss: 0.0171 - val_loss: 0.0118\n",
      "Epoch 4/300\n",
      "5/5 [==============================] - 1s 148ms/step - loss: 0.0074 - val_loss: 0.0031\n",
      "Epoch 5/300\n",
      "5/5 [==============================] - 1s 152ms/step - loss: 0.0029 - val_loss: 0.0058\n",
      "Epoch 6/300\n",
      "5/5 [==============================] - 1s 158ms/step - loss: 0.0033 - val_loss: 0.0049\n",
      "Epoch 7/300\n",
      "5/5 [==============================] - 1s 151ms/step - loss: 0.0021 - val_loss: 0.0034\n",
      "Epoch 8/300\n",
      "5/5 [==============================] - 1s 147ms/step - loss: 0.0019 - val_loss: 0.0033\n",
      "Epoch 9/300\n",
      "5/5 [==============================] - 1s 154ms/step - loss: 0.0018 - val_loss: 0.0030\n",
      "Epoch 10/300\n",
      "5/5 [==============================] - 1s 154ms/step - loss: 0.0017 - val_loss: 0.0032\n",
      "Epoch 11/300\n",
      "5/5 [==============================] - 1s 146ms/step - loss: 0.0017 - val_loss: 0.0032\n",
      "Epoch 12/300\n",
      "5/5 [==============================] - 1s 152ms/step - loss: 0.0016 - val_loss: 0.0033\n",
      "Epoch 13/300\n",
      "5/5 [==============================] - 1s 156ms/step - loss: 0.0016 - val_loss: 0.0031\n",
      "Epoch 14/300\n",
      "5/5 [==============================] - 1s 157ms/step - loss: 0.0015 - val_loss: 0.0030\n",
      "Epoch 15/300\n",
      "5/5 [==============================] - 1s 162ms/step - loss: 0.0015 - val_loss: 0.0029\n",
      "Epoch 16/300\n",
      "5/5 [==============================] - 1s 166ms/step - loss: 0.0014 - val_loss: 0.0029\n",
      "Epoch 17/300\n",
      "5/5 [==============================] - 1s 162ms/step - loss: 0.0014 - val_loss: 0.0028\n",
      "Epoch 18/300\n",
      "5/5 [==============================] - 1s 164ms/step - loss: 0.0013 - val_loss: 0.0026\n",
      "Epoch 19/300\n",
      "5/5 [==============================] - 1s 152ms/step - loss: 0.0012 - val_loss: 0.0025\n",
      "Epoch 20/300\n",
      "5/5 [==============================] - 1s 156ms/step - loss: 0.0010 - val_loss: 0.0023\n",
      "Epoch 21/300\n",
      "5/5 [==============================] - 1s 153ms/step - loss: 8.7918e-04 - val_loss: 0.0020\n",
      "Epoch 22/300\n",
      "5/5 [==============================] - 1s 153ms/step - loss: 7.9155e-04 - val_loss: 0.0018\n",
      "Epoch 23/300\n",
      "5/5 [==============================] - 1s 161ms/step - loss: 7.7673e-04 - val_loss: 0.0015\n",
      "Epoch 24/300\n",
      "5/5 [==============================] - 1s 168ms/step - loss: 7.4561e-04 - val_loss: 0.0015\n",
      "Epoch 25/300\n",
      "5/5 [==============================] - 1s 155ms/step - loss: 7.0335e-04 - val_loss: 0.0014\n",
      "Epoch 26/300\n",
      "5/5 [==============================] - 1s 161ms/step - loss: 7.0805e-04 - val_loss: 0.0015\n",
      "Epoch 27/300\n",
      "5/5 [==============================] - 1s 161ms/step - loss: 6.5514e-04 - val_loss: 0.0012\n",
      "Epoch 28/300\n",
      "5/5 [==============================] - 1s 175ms/step - loss: 6.3349e-04 - val_loss: 0.0011\n",
      "Epoch 29/300\n",
      "5/5 [==============================] - 1s 165ms/step - loss: 6.5547e-04 - val_loss: 0.0013\n",
      "Epoch 30/300\n",
      "5/5 [==============================] - 1s 154ms/step - loss: 6.0264e-04 - val_loss: 9.0246e-04\n",
      "Epoch 31/300\n",
      "5/5 [==============================] - 1s 153ms/step - loss: 5.5907e-04 - val_loss: 0.0010\n",
      "Epoch 32/300\n",
      "5/5 [==============================] - 1s 161ms/step - loss: 5.2548e-04 - val_loss: 8.9669e-04\n",
      "Epoch 33/300\n",
      "5/5 [==============================] - 1s 181ms/step - loss: 4.9069e-04 - val_loss: 8.0688e-04\n",
      "Epoch 34/300\n",
      "5/5 [==============================] - 1s 180ms/step - loss: 4.5087e-04 - val_loss: 7.2252e-04\n",
      "Epoch 35/300\n",
      "5/5 [==============================] - 1s 157ms/step - loss: 4.2861e-04 - val_loss: 6.9644e-04\n",
      "Epoch 36/300\n",
      "5/5 [==============================] - 1s 153ms/step - loss: 4.0472e-04 - val_loss: 6.3012e-04\n",
      "Epoch 37/300\n",
      "5/5 [==============================] - 1s 158ms/step - loss: 3.8977e-04 - val_loss: 6.2843e-04\n",
      "Epoch 38/300\n",
      "5/5 [==============================] - 1s 163ms/step - loss: 3.8225e-04 - val_loss: 6.4688e-04\n",
      "Epoch 39/300\n",
      "5/5 [==============================] - 1s 165ms/step - loss: 3.8677e-04 - val_loss: 6.3727e-04\n",
      "Epoch 40/300\n",
      "5/5 [==============================] - 1s 164ms/step - loss: 3.8343e-04 - val_loss: 6.2617e-04\n",
      "Epoch 41/300\n",
      "5/5 [==============================] - 1s 157ms/step - loss: 3.7890e-04 - val_loss: 6.1705e-04\n",
      "Epoch 42/300\n",
      "5/5 [==============================] - 1s 159ms/step - loss: 3.7464e-04 - val_loss: 6.1147e-04\n",
      "Epoch 43/300\n",
      "5/5 [==============================] - 1s 158ms/step - loss: 3.6670e-04 - val_loss: 5.9408e-04\n",
      "Epoch 44/300\n",
      "5/5 [==============================] - 1s 159ms/step - loss: 3.7256e-04 - val_loss: 6.0224e-04\n",
      "Epoch 45/300\n",
      "5/5 [==============================] - 1s 186ms/step - loss: 3.7864e-04 - val_loss: 5.9471e-04\n",
      "Epoch 46/300\n",
      "5/5 [==============================] - 1s 172ms/step - loss: 3.5781e-04 - val_loss: 6.0403e-04\n",
      "Epoch 47/300\n",
      "5/5 [==============================] - 1s 164ms/step - loss: 3.5981e-04 - val_loss: 5.8269e-04\n",
      "Epoch 48/300\n",
      "5/5 [==============================] - 1s 157ms/step - loss: 3.4923e-04 - val_loss: 5.6998e-04\n",
      "Epoch 49/300\n",
      "5/5 [==============================] - 1s 149ms/step - loss: 3.4731e-04 - val_loss: 5.6165e-04\n",
      "Epoch 50/300\n",
      "5/5 [==============================] - 1s 159ms/step - loss: 3.4935e-04 - val_loss: 5.5860e-04\n",
      "Epoch 51/300\n",
      "5/5 [==============================] - 1s 166ms/step - loss: 3.3993e-04 - val_loss: 5.5482e-04\n",
      "Epoch 52/300\n",
      "5/5 [==============================] - 1s 170ms/step - loss: 3.3666e-04 - val_loss: 5.5505e-04\n",
      "Epoch 53/300\n",
      "5/5 [==============================] - 1s 168ms/step - loss: 3.3434e-04 - val_loss: 5.5089e-04\n",
      "Epoch 54/300\n",
      "5/5 [==============================] - 1s 166ms/step - loss: 3.4276e-04 - val_loss: 5.5018e-04\n",
      "Epoch 55/300\n",
      "5/5 [==============================] - 1s 199ms/step - loss: 3.4307e-04 - val_loss: 5.4126e-04\n",
      "Epoch 56/300\n",
      "5/5 [==============================] - 1s 204ms/step - loss: 3.4249e-04 - val_loss: 5.5711e-04\n",
      "Epoch 57/300\n",
      "5/5 [==============================] - 1s 172ms/step - loss: 3.4888e-04 - val_loss: 5.6310e-04\n",
      "Epoch 58/300\n",
      "5/5 [==============================] - 1s 196ms/step - loss: 3.4178e-04 - val_loss: 5.5600e-04\n",
      "Epoch 59/300\n",
      "5/5 [==============================] - 1s 190ms/step - loss: 3.4429e-04 - val_loss: 5.5173e-04\n",
      "Epoch 60/300\n",
      "5/5 [==============================] - 1s 183ms/step - loss: 3.2959e-04 - val_loss: 5.3922e-04\n",
      "Epoch 61/300\n",
      "5/5 [==============================] - 1s 191ms/step - loss: 3.2655e-04 - val_loss: 5.4332e-04\n",
      "Epoch 62/300\n",
      "5/5 [==============================] - 1s 170ms/step - loss: 3.2384e-04 - val_loss: 5.1947e-04\n",
      "Epoch 63/300\n",
      "5/5 [==============================] - 1s 172ms/step - loss: 3.1779e-04 - val_loss: 5.3473e-04\n",
      "Epoch 64/300\n",
      "5/5 [==============================] - 1s 184ms/step - loss: 3.1608e-04 - val_loss: 5.3361e-04\n",
      "Epoch 65/300\n",
      "5/5 [==============================] - 1s 171ms/step - loss: 3.1395e-04 - val_loss: 5.3950e-04\n",
      "Epoch 66/300\n",
      "5/5 [==============================] - 1s 173ms/step - loss: 3.1357e-04 - val_loss: 5.1984e-04\n",
      "Epoch 67/300\n",
      "5/5 [==============================] - 1s 180ms/step - loss: 3.1842e-04 - val_loss: 5.2312e-04\n",
      "errors_ref:  [0.0002488  0.00030559 0.0003057  0.00032106 0.00036688 0.00052231\n",
      " 0.00052393]\n",
      "delta_error:  0.0004445951635716483\n"
     ]
    }
   ],
   "source": [
    "x_train = X_train[:int(ratioTrainTest*len(X_train))]\n",
    "x_test = X_train[int(ratioTrainTest*len(X_train)):]\n",
    "autoencoder = cae.CAE(inputShape,nbNeuronsLayers=[16, 16, 16], nbConvFilters=(3,3), poolScale=(2, 2))\n",
    "autoencoder.createModel()\n",
    "autoencoder.train(x_train, x_test, epochs=300, batch_size=1)\n",
    "\n",
    "pred_ref = autoencoder.predict(X_train)\n",
    "pred_nor = autoencoder.predict(X_normal)\n",
    "pred_ano = autoencoder.predict(X_anomaly)"
   ]
  },
  {
   "cell_type": "code",
   "execution_count": null,
   "metadata": {},
   "outputs": [],
   "source": [
    "conf_mat = confusion_matrix(np.append(pred_nor, pred_ano), [1]*len(pred_nor) + [-1]*len(pred_ano))\n",
    "\n",
    "def plot_confusion_matrix(cm, title='Confusion matrix', cmap=plt.cm.Blues):     \n",
    "    labels_names_ref = [\"Anomalie\", \"Normal\"]\n",
    "        \n",
    "    plt.imshow(cm, interpolation='nearest', cmap=cmap)\n",
    "    plt.title(title)\n",
    "    plt.colorbar()\n",
    "    tick_marks = np.arange(len(labels_names_ref))\n",
    "    plt.xticks(tick_marks, labels_names_ref, rotation=45)\n",
    "    plt.yticks(tick_marks, labels_names_ref)\n",
    "    plt.tight_layout()\n",
    "    plt.ylabel('Predicted label')\n",
    "    plt.xlabel('True label')\n",
    "\n",
    "    thresh = cm.max() / 2.\n",
    "    for i, j in itertools.product(range(cm.shape[0]), range(cm.shape[1])):\n",
    "        plt.text(j, i, format(cm[i, j]),\n",
    "                 horizontalalignment=\"center\",\n",
    "                 color=\"white\" if cm[i, j] > thresh else \"black\")\n",
    "        \n",
    "plot_confusion_matrix(conf_mat)"
   ]
  },
  {
   "cell_type": "code",
   "execution_count": null,
   "metadata": {},
   "outputs": [],
   "source": [
    "print(\"Accuracy:\", accuracy_score(np.append(pred_nor, pred_ano), [1]*len(pred_nor) + [-1]*len(pred_ano)))\n",
    "precision = (conf_mat[0][0]/(conf_mat[0][0] + conf_mat[1][0]) + conf_mat[1][1]/(conf_mat[1][1] + conf_mat[0][1]))/2\n",
    "print(\"Precision: \", precision)\n",
    "recall = (conf_mat[0][0]/(conf_mat[0][0] + conf_mat[0][1]) + conf_mat[1][1]/(conf_mat[1][1] + conf_mat[1][0]))/2\n",
    "print(\"Recall: \", recall)\n",
    "f1score = 2*(precision*recall)/(precision+recall)\n",
    "print(\"F1-Score: \", f1score)"
   ]
  },
  {
   "cell_type": "code",
   "execution_count": null,
   "metadata": {},
   "outputs": [],
   "source": []
  }
 ],
 "metadata": {
  "kernelspec": {
   "display_name": "Python 3",
   "language": "python",
   "name": "python3"
  },
  "language_info": {
   "codemirror_mode": {
    "name": "ipython",
    "version": 3
   },
   "file_extension": ".py",
   "mimetype": "text/x-python",
   "name": "python",
   "nbconvert_exporter": "python",
   "pygments_lexer": "ipython3",
   "version": "3.6.4"
  }
 },
 "nbformat": 4,
 "nbformat_minor": 2
}
