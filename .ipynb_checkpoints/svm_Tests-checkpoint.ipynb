{
 "cells": [
  {
   "cell_type": "markdown",
   "metadata": {},
   "source": [
    "## Loading the packages"
   ]
  },
  {
   "cell_type": "code",
   "execution_count": 1,
   "metadata": {},
   "outputs": [],
   "source": [
    "import os\n",
    "import numpy as np\n",
    "\n",
    "import utils.ImagesProcessor as ip\n",
    "from sklearn import svm\n",
    "from sklearn.metrics import accuracy_score\n",
    "from sklearn.metrics import confusion_matrix\n",
    "\n",
    "import matplotlib.pyplot as plt\n",
    "from mpl_toolkits.mplot3d import Axes3D\n",
    "from matplotlib import cm\n",
    "from matplotlib.ticker import LinearLocator, FormatStrFormatter\n",
    "import itertools\n",
    "import time\n"
   ]
  },
  {
   "cell_type": "markdown",
   "metadata": {},
   "source": [
    "## Loading the datasets"
   ]
  },
  {
   "cell_type": "code",
   "execution_count": 2,
   "metadata": {},
   "outputs": [],
   "source": [
    "def loadImages(directory_name):\n",
    "    directory = os.fsencode(directory_name)\n",
    "    imgs = []\n",
    "    filenames = []\n",
    "    for file in os.listdir(directory):\n",
    "        filename = os.fsdecode(file)\n",
    "        if filename.lower().endswith(\".jpg\"): \n",
    "            img = IP.readImage(directory_name + \"/\" + filename)\n",
    "            img = IP.resizeImage(img, (1000, 1000))\n",
    "            #chromaticity = IP.extractChromaticity(img)\n",
    "            #colors_hist = np.array(IP.extractRGBHistogram(chromaticity))\n",
    "            texture_features = np.array(IP.extractTexturefeatures(img))\n",
    "            #img = img.reshape(-1)\n",
    "            imgs.append(texture_features)\n",
    "            filenames.append(filename)\n",
    "    return np.array(imgs), filenames"
   ]
  },
  {
   "cell_type": "code",
   "execution_count": 3,
   "metadata": {},
   "outputs": [
    {
     "name": "stderr",
     "output_type": "stream",
     "text": [
      "/anaconda3/lib/python3.6/site-packages/skimage/feature/texture.py:109: FutureWarning: Conversion of the second argument of issubdtype from `float` to `np.floating` is deprecated. In future, it will be treated as `np.float64 == np.dtype(float).type`.\n",
      "  if np.issubdtype(image.dtype, np.float):\n"
     ]
    }
   ],
   "source": [
    "TRAINING_PATH = \"datasets/jardin_landscape/validation/dataset_train\"\n",
    "NORMAL_PATH = \"datasets/jardin_landscape/validation/dataset_normal\"\n",
    "ANOMALY_PATH = \"datasets/jardin_landscape/validation/dataset_anomaly\"\n",
    "IP = ip.ImagesProcessor()\n",
    "\n",
    "# Load the images\n",
    "X_train, trainFilenames = loadImages(TRAINING_PATH)\n",
    "X_normal, normalFilenames= loadImages(NORMAL_PATH)\n",
    "X_anomaly, anomalyFilenames = loadImages(ANOMALY_PATH)\n",
    "\n",
    "# Normalize them\n",
    "X = np.append(np.append(X_train, X_normal, axis=0), X_anomaly, axis=0)\n",
    "X_train = X_train.astype('float32')/X.max(axis=0)\n",
    "X_normal = X_normal.astype('float32')/X.max(axis=0)\n",
    "X_anomaly = X_anomaly.astype('float32')/X.max(axis=0)"
   ]
  },
  {
   "cell_type": "code",
   "execution_count": 4,
   "metadata": {},
   "outputs": [
    {
     "name": "stdout",
     "output_type": "stream",
     "text": [
      "(7, 6)\n",
      "(12, 6)\n",
      "(18, 6)\n"
     ]
    }
   ],
   "source": [
    "print(X_train.shape)\n",
    "#print(X_train)\n",
    "print(X_normal.shape)\n",
    "#print(X_normal)\n",
    "print(X_anomaly.shape)\n",
    "#print(X_anomaly)\n",
    "#print(X)\n",
    "#print(np.random.choice(X_train, int(len(X_train)*1)))"
   ]
  },
  {
   "cell_type": "markdown",
   "metadata": {},
   "source": [
    "## Explore the Nu and Gamma parameters"
   ]
  },
  {
   "cell_type": "code",
   "execution_count": 5,
   "metadata": {},
   "outputs": [
    {
     "name": "stdout",
     "output_type": "stream",
     "text": [
      "(0.5666666666666667, 1.1920928955078125)\n"
     ]
    }
   ],
   "source": [
    "def testSVM(nu=0.8, gamma=0.2, kernel=\"rbf\", coef0=0, degree=3, sizeDataset=7):\n",
    "    time1 = time.time()\n",
    "    clf = svm.OneClassSVM(nu=nu, kernel=kernel, gamma=gamma, degree=degree, coef0=coef0)\n",
    "    np.random.shuffle(X_train)\n",
    "    clf.fit(X_train[0:sizeDataset])\n",
    "    pred_ref = clf.predict(X_train)\n",
    "    #print(\"ref:\", pred_ref)\n",
    "    #print(trainFilenames)\n",
    "    pred_nor = clf.predict(X_normal)\n",
    "    #print(\"normal:\", pred_nor)\n",
    "    #print(normalFilenames)\n",
    "    pred_ano = clf.predict(X_anomaly)\n",
    "    #print(\"anomalies:\", pred_ano)\n",
    "    #print(anomalyFilenames)\n",
    "    time2 = time.time()\n",
    "    return accuracy_score(np.append(pred_nor, pred_ano), [1]*len(pred_nor) + [-1]*len(pred_ano)), (time2-time1)*1000\n",
    "print(testSVM(0.74, 0.2))"
   ]
  },
  {
   "cell_type": "code",
   "execution_count": 6,
   "metadata": {},
   "outputs": [
    {
     "data": {
      "text/plain": [
       "\"\\nnu_params = np.arange(0.01,1.0,0.1)\\ngamma_params = np.arange(0.01,14.0,0.1)\\n#coef0_params = np.arange(0,50,1)\\n#degree_params = np.arange(1,7,1)\\n\\nfig = plt.figure(num=None, figsize=(15, 10), dpi=80, facecolor='w', edgecolor='k')\\nax = fig.gca(projection='3d')\\n# Make data.\\nnu_params, gamma_params = np.meshgrid(nu_params, gamma_params)\\n#coef0_params, degree_params = np.meshgrid(coef0_params, degree_params)\\n\\naccurencies = np.array([testSVM(nu=x,gamma=y, coef0=20, degree=4) for x,y in zip(np.ravel(nu_params), np.ravel(gamma_params))])\\naccurencies = accurencies.reshape(gamma_params.shape)\\n\\n#accurencies = np.array([testSVM(coef0=x,degree=y, nu=0.5, gamma=0.166) for x,y in zip(np.ravel(coef0_params), np.ravel(degree_params))])\\n#accurencies = accurencies.reshape(degree_params.shape)\\n\\ngraph = ax.plot_surface(nu_params, gamma_params, accurencies, cmap=cm.coolwarm,\\n                       linewidth=0, antialiased=False)\\n\\n#ax.set_xlabel('Coef0 Parameter')\\n#ax.set_ylabel('Degree Parameter')\\n\\nax.set_xlabel('Nu Parameter')\\nax.set_ylabel('Gamma Parameter')\\n\\nax.set_zlabel('Accuracy')\\n\\n# Customize the z axis.\\nax.set_zlim(0, 1.00)\\nax.zaxis.set_major_locator(LinearLocator(10))\\nax.zaxis.set_major_formatter(FormatStrFormatter('%.02f'))\\n\\n# Add a color bar which maps values to colors.\\nfig.colorbar(graph, shrink=0.5, aspect=5)\\n\\nplt.show()\\n\\n\""
      ]
     },
     "execution_count": 6,
     "metadata": {},
     "output_type": "execute_result"
    }
   ],
   "source": [
    "'''\n",
    "nu_params = np.arange(0.01,1.0,0.1)\n",
    "gamma_params = np.arange(0.01,14.0,0.1)\n",
    "#coef0_params = np.arange(0,50,1)\n",
    "#degree_params = np.arange(1,7,1)\n",
    "\n",
    "fig = plt.figure(num=None, figsize=(15, 10), dpi=80, facecolor='w', edgecolor='k')\n",
    "ax = fig.gca(projection='3d')\n",
    "# Make data.\n",
    "nu_params, gamma_params = np.meshgrid(nu_params, gamma_params)\n",
    "#coef0_params, degree_params = np.meshgrid(coef0_params, degree_params)\n",
    "\n",
    "accurencies = np.array([testSVM(nu=x,gamma=y, coef0=20, degree=4) for x,y in zip(np.ravel(nu_params), np.ravel(gamma_params))])\n",
    "accurencies = accurencies.reshape(gamma_params.shape)\n",
    "\n",
    "#accurencies = np.array([testSVM(coef0=x,degree=y, nu=0.5, gamma=0.166) for x,y in zip(np.ravel(coef0_params), np.ravel(degree_params))])\n",
    "#accurencies = accurencies.reshape(degree_params.shape)\n",
    "\n",
    "graph = ax.plot_surface(nu_params, gamma_params, accurencies, cmap=cm.coolwarm,\n",
    "                       linewidth=0, antialiased=False)\n",
    "\n",
    "#ax.set_xlabel('Coef0 Parameter')\n",
    "#ax.set_ylabel('Degree Parameter')\n",
    "\n",
    "ax.set_xlabel('Nu Parameter')\n",
    "ax.set_ylabel('Gamma Parameter')\n",
    "\n",
    "ax.set_zlabel('Accuracy')\n",
    "\n",
    "# Customize the z axis.\n",
    "ax.set_zlim(0, 1.00)\n",
    "ax.zaxis.set_major_locator(LinearLocator(10))\n",
    "ax.zaxis.set_major_formatter(FormatStrFormatter('%.02f'))\n",
    "\n",
    "# Add a color bar which maps values to colors.\n",
    "fig.colorbar(graph, shrink=0.5, aspect=5)\n",
    "\n",
    "plt.show()\n",
    "\n",
    "'''"
   ]
  },
  {
   "cell_type": "code",
   "execution_count": 7,
   "metadata": {},
   "outputs": [
    {
     "data": {
      "text/plain": [
       "\"\\ncoef0_params = np.arange(0,50,1)\\nfig, axes = plt.subplots()\\naccurencies = np.array([testSVM(nu=0.75, gamma=4, coef0=x) for x in coef0_params])\\ngraph = axes.plot(coef0_params, accurencies, 'r')\\naxes.set_xlabel('Coef0 Parameter')\\naxes.set_ylabel('Accuracy')\\nplt.show()\\n\""
      ]
     },
     "execution_count": 7,
     "metadata": {},
     "output_type": "execute_result"
    }
   ],
   "source": [
    "'''\n",
    "coef0_params = np.arange(0,50,1)\n",
    "fig, axes = plt.subplots()\n",
    "accurencies = np.array([testSVM(nu=0.75, gamma=4, coef0=x) for x in coef0_params])\n",
    "graph = axes.plot(coef0_params, accurencies, 'r')\n",
    "axes.set_xlabel('Coef0 Parameter')\n",
    "axes.set_ylabel('Accuracy')\n",
    "plt.show()\n",
    "'''"
   ]
  },
  {
   "cell_type": "code",
   "execution_count": 8,
   "metadata": {},
   "outputs": [
    {
     "data": {
      "text/plain": [
       "\"\\ndatasetSize = np.arange(1,8,1)\\nfig, axe1 = plt.subplots()\\naxes = [testSVM(nu=0.75, gamma=0.2, sizeDataset=x) for x in datasetSize]\\naccurencies = [i[0] for i in axes]\\ntimes = [i[1] for i in axes]\\nprint(accurencies)\\ngraph = axe1.plot(datasetSize, accurencies, 'r')\\naxe1.set_xlabel('number of train samples')\\naxe1.set_ylabel('Accuracy', color='r')\\n\\naxe2 = axe1.twinx()\\naxe2.plot(datasetSize, times, 'b')\\naxe2.set_ylabel('Time(s)', color='b')\\nplt.show()\\n\""
      ]
     },
     "execution_count": 8,
     "metadata": {},
     "output_type": "execute_result"
    }
   ],
   "source": [
    "'''\n",
    "datasetSize = np.arange(1,8,1)\n",
    "fig, axe1 = plt.subplots()\n",
    "axes = [testSVM(nu=0.75, gamma=0.2, sizeDataset=x) for x in datasetSize]\n",
    "accurencies = [i[0] for i in axes]\n",
    "times = [i[1] for i in axes]\n",
    "print(accurencies)\n",
    "graph = axe1.plot(datasetSize, accurencies, 'r')\n",
    "axe1.set_xlabel('number of train samples')\n",
    "axe1.set_ylabel('Accuracy', color='r')\n",
    "\n",
    "axe2 = axe1.twinx()\n",
    "axe2.plot(datasetSize, times, 'b')\n",
    "axe2.set_ylabel('Time(s)', color='b')\n",
    "plt.show()\n",
    "'''"
   ]
  },
  {
   "cell_type": "markdown",
   "metadata": {},
   "source": [
    "## Final Model"
   ]
  },
  {
   "cell_type": "code",
   "execution_count": 9,
   "metadata": {},
   "outputs": [],
   "source": [
    "clf = svm.OneClassSVM(nu=0.75, kernel=\"rbf\", gamma=0.2)\n",
    "clf.fit(X_train)\n",
    "pred_ref = clf.predict(X_train)\n",
    "pred_nor = clf.predict(X_normal)\n",
    "pred_ano = clf.predict(X_anomaly)"
   ]
  },
  {
   "cell_type": "code",
   "execution_count": 10,
   "metadata": {},
   "outputs": [
    {
     "data": {
      "image/png": "[encoded data removed]",
      "text/plain": [
       "<matplotlib.figure.Figure at 0x1c240ca6d8>"
      ]
     },
     "metadata": {},
     "output_type": "display_data"
    }
   ],
   "source": [
    "conf_mat = confusion_matrix(np.append(pred_nor, pred_ano), [1]*len(pred_nor) + [-1]*len(pred_ano))\n",
    "\n",
    "def plot_confusion_matrix(cm, title='Confusion matrix', cmap=plt.cm.Blues):     \n",
    "    labels_names_ref = [\"Anomalie\", \"Normal\"]\n",
    "        \n",
    "    plt.imshow(cm, interpolation='nearest', cmap=cmap)\n",
    "    plt.title(title)\n",
    "    plt.colorbar()\n",
    "    tick_marks = np.arange(len(labels_names_ref))\n",
    "    plt.xticks(tick_marks, labels_names_ref, rotation=45)\n",
    "    plt.yticks(tick_marks, labels_names_ref)\n",
    "    plt.tight_layout()\n",
    "    plt.ylabel('Predicted label')\n",
    "    plt.xlabel('True label')\n",
    "\n",
    "    thresh = cm.max() / 2.\n",
    "    for i, j in itertools.product(range(cm.shape[0]), range(cm.shape[1])):\n",
    "        plt.text(j, i, format(cm[i, j]),\n",
    "                 horizontalalignment=\"center\",\n",
    "                 color=\"white\" if cm[i, j] > thresh else \"black\")\n",
    "        \n",
    "plot_confusion_matrix(conf_mat)"
   ]
  },
  {
   "cell_type": "code",
   "execution_count": 11,
   "metadata": {},
   "outputs": [
    {
     "name": "stdout",
     "output_type": "stream",
     "text": [
      "Accuracy: 0.5666666666666667\n",
      "Precision:  0.6111111111111112\n",
      "Recall:  0.626984126984127\n",
      "F1-Score:  0.618945868945869\n"
     ]
    }
   ],
   "source": [
    "print(\"Accuracy:\", accuracy_score(np.append(pred_nor, pred_ano), [1]*len(pred_nor) + [-1]*len(pred_ano)))\n",
    "precision = (conf_mat[0][0]/(conf_mat[0][0] + conf_mat[1][0]) + conf_mat[1][1]/(conf_mat[1][1] + conf_mat[0][1]))/2\n",
    "print(\"Precision: \", precision)\n",
    "recall = (conf_mat[0][0]/(conf_mat[0][0] + conf_mat[0][1]) + conf_mat[1][1]/(conf_mat[1][1] + conf_mat[1][0]))/2\n",
    "print(\"Recall: \", recall)\n",
    "f1score = 2*(precision*recall)/(precision+recall)\n",
    "print(\"F1-Score: \", f1score)"
   ]
  },
  {
   "cell_type": "code",
   "execution_count": 12,
   "metadata": {},
   "outputs": [
    {
     "name": "stdout",
     "output_type": "stream",
     "text": [
      "NA_IMG_0360.jpg  -  1\n",
      "NA_IMG_0362.jpg  -  1\n",
      "NA_IMG_0376.jpg  -  1\n",
      "NA_0244.jpg  -  -1\n",
      "NA_IMG_0411.jpg  -  1\n",
      "NA_0240.jpg  -  1\n",
      "NA_IMG_0366.jpg  -  1\n",
      "NA_IMG_0428.jpg  -  -1\n",
      "NA_IMG_0370.jpg  -  1\n",
      "NA_IMG_0364.jpg  -  1\n",
      "NA_IMG_0385.jpg  -  1\n",
      "NA_IMG_0278.jpg  -  1\n",
      "A_IMG_0321.jpg  -  -1\n",
      "A_IMG_0322.jpg  -  -1\n",
      "HA_IMG_0425.jpg  -  1\n",
      "HA_IMG_0424.jpg  -  1\n",
      "HA_IMG_0418.jpg  -  1\n",
      "A_IMG_0423.jpg  -  1\n",
      "A_IMG_0345.jpg  -  -1\n",
      "A_IMG_0390.jpg  -  1\n",
      "A_IMG_0409.jpg  -  1\n",
      "A_IMG_0353.jpg  -  -1\n",
      "A_IMG_0395.jpg  -  1\n",
      "HA_IMG_0420.jpg  -  1\n",
      "A_IMG_0417.jpg  -  1\n",
      "A_IMG_0402.jpg  -  1\n",
      "A_IMG_0413.jpg  -  1\n",
      "A_IMG_0272.jpg  -  -1\n",
      "A_IMG_0271.jpg  -  -1\n",
      "A_IMG_0329.jpg  -  -1\n"
     ]
    }
   ],
   "source": [
    "for i in range(len(normalFilenames)):\n",
    "    print(normalFilenames[i], \" - \", pred_nor[i])\n",
    "for i in range(len(anomalyFilenames)):\n",
    "    print(anomalyFilenames[i], \" - \", pred_ano[i])"
   ]
  }
 ],
 "metadata": {
  "kernelspec": {
   "display_name": "Python 3",
   "language": "python",
   "name": "python3"
  },
  "language_info": {
   "codemirror_mode": {
    "name": "ipython",
    "version": 3
   },
   "file_extension": ".py",
   "mimetype": "text/x-python",
   "name": "python",
   "nbconvert_exporter": "python",
   "pygments_lexer": "ipython3",
   "version": "3.6.4"
  }
 },
 "nbformat": 4,
 "nbformat_minor": 2
}
