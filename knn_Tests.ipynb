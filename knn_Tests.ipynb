{
 "cells": [
  {
   "cell_type": "markdown",
   "metadata": {},
   "source": [
    "## Loading the packages"
   ]
  },
  {
   "cell_type": "code",
   "execution_count": 1,
   "metadata": {},
   "outputs": [
    {
     "name": "stderr",
     "output_type": "stream",
     "text": [
      "/anaconda3/lib/python3.6/site-packages/h5py/__init__.py:36: FutureWarning: Conversion of the second argument of issubdtype from `float` to `np.floating` is deprecated. In future, it will be treated as `np.float64 == np.dtype(float).type`.\n",
      "  from ._conv import register_converters as _register_converters\n",
      "Using TensorFlow backend.\n"
     ]
    }
   ],
   "source": [
    "import os\n",
    "import numpy as np\n",
    "\n",
    "import utils.ImagesProcessor as ip\n",
    "from sklearn import svm\n",
    "from sklearn.metrics import accuracy_score\n",
    "from sklearn.metrics import confusion_matrix\n",
    "\n",
    "import matplotlib.pyplot as plt\n",
    "from mpl_toolkits.mplot3d import Axes3D\n",
    "from matplotlib import cm\n",
    "from matplotlib.ticker import LinearLocator, FormatStrFormatter\n",
    "import itertools\n",
    "\n",
    "import models.CAE as cae\n",
    "\n",
    "slicesSize = np.array([28, 28, 3])\n",
    "overlap = 10\n",
    "ratioTrainTest = 0.8\n",
    "inputShape = np.array([300, 300, 3])"
   ]
  },
  {
   "cell_type": "markdown",
   "metadata": {},
   "source": [
    "## Loading the datasets"
   ]
  },
  {
   "cell_type": "code",
   "execution_count": 2,
   "metadata": {},
   "outputs": [],
   "source": [
    "def loadImages(directory_name):\n",
    "    directory = os.fsencode(directory_name)\n",
    "    imgs = []\n",
    "    filenames = []\n",
    "    for file in os.listdir(directory):\n",
    "        filename = os.fsdecode(file)\n",
    "        if filename.lower().endswith(\".jpg\"): \n",
    "            img = IP.readImage(directory_name + \"/\" + filename)\n",
    "            img = IP.resizeImage(img, inputShape[:-1])\n",
    "            img = IP.extractChromaticity(img)\n",
    "            img_slices = IP.sliceImage(img,(slicesSize[0], slicesSize[1]),overlap)\n",
    "            imgs.append(img_slices)\n",
    "            filenames.append(filename)\n",
    "    return np.array(imgs), filenames"
   ]
  },
  {
   "cell_type": "code",
   "execution_count": 3,
   "metadata": {},
   "outputs": [
    {
     "name": "stderr",
     "output_type": "stream",
     "text": [
      "/anaconda3/lib/python3.6/site-packages/scipy/stats/stats.py:313: RuntimeWarning: divide by zero encountered in log\n",
      "  log_a = np.log(a)\n"
     ]
    }
   ],
   "source": [
    "TRAINING_PATH = \"dataset_train\"\n",
    "NORMAL_PATH = \"dataset_normal\"\n",
    "ANOMALY_PATH = \"dataset_anomaly\"\n",
    "IP = ip.ImagesProcessor()\n",
    "\n",
    "# Load the images\n",
    "X_train, trainFilenames = loadImages(TRAINING_PATH)\n",
    "X_normal, normalFilenames= loadImages(NORMAL_PATH)\n",
    "X_anomaly, anomalyFilenames = loadImages(ANOMALY_PATH)\n"
   ]
  },
  {
   "cell_type": "code",
   "execution_count": 4,
   "metadata": {},
   "outputs": [
    {
     "name": "stdout",
     "output_type": "stream",
     "text": [
      "(7, 289, 28, 28, 3)\n",
      "(12, 289, 28, 28, 3)\n",
      "(14, 289, 28, 28, 3)\n"
     ]
    }
   ],
   "source": [
    "# Normalize them\n",
    "X_train = X_train.astype('float32')/255.0\n",
    "X_normal = X_normal.astype('float32')/255.0\n",
    "X_anomaly = X_anomaly.astype('float32')/255.0\n",
    "\n",
    "print(X_train.shape)\n",
    "#print(X_train)\n",
    "print(X_normal.shape)\n",
    "#print(X_normal)\n",
    "print(X_anomaly.shape)\n",
    "#print(X_anomaly)\n",
    "#print(X)"
   ]
  },
  {
   "cell_type": "code",
   "execution_count": 15,
   "metadata": {},
   "outputs": [],
   "source": [
    "def euclidienne_distance(data1, data2):    \n",
    "    return np.sum(np.power(np.array(data1) - np.array(data2), 2))\n",
    "\n",
    "\n",
    "def get_neighbors(training_set, \n",
    "          data_point, \n",
    "          k, \n",
    "          distance=euclidienne_distance):\n",
    "    #print(data_point.shape)\n",
    "    #print(training_set.shape)\n",
    "    distances = []\n",
    "    for indexTrain in range(len(training_set)):\n",
    "        dist = distance(data_point, training_set[indexTrain])\n",
    "        distances.append(dist)\n",
    "    distances.sort()\n",
    "    neighbors = distances[:k]\n",
    "    mean_distance = np.sum(neighbors)\n",
    "    return mean_distance"
   ]
  },
  {
   "cell_type": "code",
   "execution_count": 6,
   "metadata": {},
   "outputs": [
    {
     "data": {
      "text/plain": [
       "0"
      ]
     },
     "execution_count": 6,
     "metadata": {},
     "output_type": "execute_result"
    }
   ],
   "source": [
    "euclidienne_distance([1,2,3], [1,2,3])"
   ]
  },
  {
   "cell_type": "markdown",
   "metadata": {},
   "source": [
    "## Explore  parameters"
   ]
  },
  {
   "cell_type": "code",
   "execution_count": 7,
   "metadata": {},
   "outputs": [],
   "source": [
    "def testKNN():\n",
    "    x_temp = np.random.permutation(X_train.reshape(-1, slicesSize))\n",
    "    x_train = x_temp[:int(ratioTrainTest*len(X_train))]\n",
    "    x_test = x_temp[int(ratioTrainTest*len(X_train)):]\n",
    "    autoencoder = cae.CAE(inputShape,nbNeuronsLayers=[16, 8, 8], nbConvFilters=(3,3), poolScale=(2, 2))\n",
    "    autoencoder.createModel()\n",
    "    autoencoder.train(x_train, x_test, epochs=300, batch_size=64)\n",
    "    \n",
    "    pred_ref = autoencoder.extractFeatures(X_train.reshape(-1, slicesSize))\n",
    "    print(\"ref:\", pred_ref)\n",
    "    #print(trainFilenames)\n",
    "    pred_nor = autoencoder.extractFeatures(X_normal)\n",
    "    print(\"normal:\", pred_nor)\n",
    "    #print(normalFilenames)\n",
    "    pred_ano = autoencoder.extractFeatures(X_anomaly)\n",
    "    print(\"anomalies:\", pred_ano)\n",
    "    #print(anomalyFilenames)\n",
    "    return accuracy_score(np.append(pred_nor, pred_ano), [1]*len(pred_nor) + [-1]*len(pred_ano))\n",
    "#print(testCAE())"
   ]
  },
  {
   "cell_type": "code",
   "execution_count": null,
   "metadata": {},
   "outputs": [],
   "source": []
  },
  {
   "cell_type": "code",
   "execution_count": 8,
   "metadata": {},
   "outputs": [
    {
     "data": {
      "text/plain": [
       "\"\\nnbNeuronsLayer1 = [128, 64, 32, 16, 8]\\nnbNeuronsLayer2 = [128, 64, 32, 16, 8]\\n\\nfig = plt.figure(num=None, figsize=(15, 10), dpi=80, facecolor='w', edgecolor='k')\\nax = fig.gca(projection='3d')\\n\\n# Make data.\\nnbNeuronsLayer1, nbNeuronsLayer2 = np.meshgrid(nbNeuronsLayer1, nbNeuronsLayer2)\\n\\naccurencies = np.array([testCAE(x,y) for x,y in zip(np.ravel(nbNeuronsLayer1), np.ravel(nbNeuronsLayer2))])\\naccurencies = accurencies.reshape(nbNeuronsLayer2.shape)\\n\\ngraph = ax.plot_surface(nbNeuronsLayer1, nbNeuronsLayer2, accurencies, cmap=cm.coolwarm,\\n                       linewidth=0, antialiased=False)\\n\\nax.set_xlabel('nbNeuronsLayer1')\\nax.set_ylabel('nbNeuronsLayer2 Parameter')\\nax.set_zlabel('Accuracy')\\n\\n# Customize the z axis.\\nax.set_zlim(0, 1.00)\\nax.zaxis.set_major_locator(LinearLocator(10))\\nax.zaxis.set_major_formatter(FormatStrFormatter('%.02f'))\\n\\n# Add a color bar which maps values to colors.\\nfig.colorbar(graph, shrink=0.5, aspect=5)\\n\\nplt.show()\\n\""
      ]
     },
     "execution_count": 8,
     "metadata": {},
     "output_type": "execute_result"
    }
   ],
   "source": [
    "'''\n",
    "nbNeuronsLayer1 = [128, 64, 32, 16, 8]\n",
    "nbNeuronsLayer2 = [128, 64, 32, 16, 8]\n",
    "\n",
    "fig = plt.figure(num=None, figsize=(15, 10), dpi=80, facecolor='w', edgecolor='k')\n",
    "ax = fig.gca(projection='3d')\n",
    "\n",
    "# Make data.\n",
    "nbNeuronsLayer1, nbNeuronsLayer2 = np.meshgrid(nbNeuronsLayer1, nbNeuronsLayer2)\n",
    "\n",
    "accurencies = np.array([testCAE(x,y) for x,y in zip(np.ravel(nbNeuronsLayer1), np.ravel(nbNeuronsLayer2))])\n",
    "accurencies = accurencies.reshape(nbNeuronsLayer2.shape)\n",
    "\n",
    "graph = ax.plot_surface(nbNeuronsLayer1, nbNeuronsLayer2, accurencies, cmap=cm.coolwarm,\n",
    "                       linewidth=0, antialiased=False)\n",
    "\n",
    "ax.set_xlabel('nbNeuronsLayer1')\n",
    "ax.set_ylabel('nbNeuronsLayer2 Parameter')\n",
    "ax.set_zlabel('Accuracy')\n",
    "\n",
    "# Customize the z axis.\n",
    "ax.set_zlim(0, 1.00)\n",
    "ax.zaxis.set_major_locator(LinearLocator(10))\n",
    "ax.zaxis.set_major_formatter(FormatStrFormatter('%.02f'))\n",
    "\n",
    "# Add a color bar which maps values to colors.\n",
    "fig.colorbar(graph, shrink=0.5, aspect=5)\n",
    "\n",
    "plt.show()\n",
    "'''"
   ]
  },
  {
   "cell_type": "markdown",
   "metadata": {},
   "source": [
    "## Final Model"
   ]
  },
  {
   "cell_type": "code",
   "execution_count": 9,
   "metadata": {},
   "outputs": [
    {
     "name": "stdout",
     "output_type": "stream",
     "text": [
      "WARNING:tensorflow:From /anaconda3/lib/python3.6/site-packages/tensorflow/contrib/learn/python/learn/datasets/base.py:198: retry (from tensorflow.contrib.learn.python.learn.datasets.base) is deprecated and will be removed in a future version.\n",
      "Instructions for updating:\n",
      "Use the retry module or similar alternatives.\n",
      "Train on 5 samples, validate on 2018 samples\n",
      "Epoch 1/300\n",
      "5/5 [==============================] - 1s 140ms/step - loss: 0.0349 - val_loss: 0.0340\n",
      "Epoch 2/300\n",
      "5/5 [==============================] - 1s 101ms/step - loss: 0.0340 - val_loss: 0.0333\n",
      "Epoch 3/300\n",
      "5/5 [==============================] - 0s 97ms/step - loss: 0.0334 - val_loss: 0.0329\n",
      "Epoch 4/300\n",
      "5/5 [==============================] - 0s 96ms/step - loss: 0.0329 - val_loss: 0.0325\n",
      "Epoch 5/300\n",
      "5/5 [==============================] - 0s 95ms/step - loss: 0.0326 - val_loss: 0.0323\n",
      "Epoch 6/300\n",
      "5/5 [==============================] - 1s 102ms/step - loss: 0.0323 - val_loss: 0.0320\n",
      "Epoch 7/300\n",
      "5/5 [==============================] - 0s 100ms/step - loss: 0.0320 - val_loss: 0.0316\n",
      "Epoch 8/300\n",
      "5/5 [==============================] - 1s 100ms/step - loss: 0.0317 - val_loss: 0.0313\n",
      "Epoch 9/300\n",
      "5/5 [==============================] - 1s 100ms/step - loss: 0.0313 - val_loss: 0.0308\n",
      "Epoch 10/300\n",
      "5/5 [==============================] - 0s 96ms/step - loss: 0.0308 - val_loss: 0.0303\n",
      "Epoch 11/300\n",
      "5/5 [==============================] - 1s 101ms/step - loss: 0.0303 - val_loss: 0.0297\n",
      "Epoch 12/300\n",
      "5/5 [==============================] - 0s 100ms/step - loss: 0.0297 - val_loss: 0.0290\n",
      "Epoch 13/300\n",
      "5/5 [==============================] - 0s 99ms/step - loss: 0.0289 - val_loss: 0.0281\n",
      "Epoch 14/300\n",
      "5/5 [==============================] - 1s 100ms/step - loss: 0.0280 - val_loss: 0.0270\n",
      "Epoch 15/300\n",
      "5/5 [==============================] - 0s 100ms/step - loss: 0.0269 - val_loss: 0.0256\n",
      "Epoch 16/300\n",
      "5/5 [==============================] - 0s 99ms/step - loss: 0.0255 - val_loss: 0.0240\n",
      "Epoch 17/300\n",
      "5/5 [==============================] - 0s 95ms/step - loss: 0.0239 - val_loss: 0.0221\n",
      "Epoch 18/300\n",
      "5/5 [==============================] - 0s 99ms/step - loss: 0.0219 - val_loss: 0.0198\n",
      "Epoch 19/300\n",
      "5/5 [==============================] - 0s 99ms/step - loss: 0.0195 - val_loss: 0.0172\n",
      "Epoch 20/300\n",
      "5/5 [==============================] - 0s 95ms/step - loss: 0.0168 - val_loss: 0.0142\n",
      "Epoch 21/300\n",
      "5/5 [==============================] - 0s 99ms/step - loss: 0.0138 - val_loss: 0.0112\n",
      "Epoch 22/300\n",
      "5/5 [==============================] - 0s 100ms/step - loss: 0.0107 - val_loss: 0.0083\n",
      "Epoch 23/300\n",
      "5/5 [==============================] - 1s 105ms/step - loss: 0.0076 - val_loss: 0.0061\n",
      "Epoch 24/300\n",
      "5/5 [==============================] - 0s 96ms/step - loss: 0.0053 - val_loss: 0.0055\n",
      "Epoch 25/300\n",
      "5/5 [==============================] - 0s 100ms/step - loss: 0.0045 - val_loss: 0.0068\n",
      "Epoch 26/300\n",
      "5/5 [==============================] - 0s 99ms/step - loss: 0.0056 - val_loss: 0.0088\n",
      "Epoch 27/300\n",
      "5/5 [==============================] - 0s 100ms/step - loss: 0.0076 - val_loss: 0.0098\n",
      "Epoch 28/300\n",
      "5/5 [==============================] - 1s 100ms/step - loss: 0.0085 - val_loss: 0.0094\n",
      "Epoch 29/300\n",
      "5/5 [==============================] - 0s 100ms/step - loss: 0.0082 - val_loss: 0.0082\n",
      "errors_ref:  [0.00517466 0.00519793 0.00520684 ... 0.01582159 0.01588236 0.0164172 ]\n",
      "delta_error:  0.009507972747087479\n"
     ]
    }
   ],
   "source": [
    "x_temp = X_train.reshape(-1, slicesSize[0], slicesSize[1], slicesSize[2])\n",
    "x_temp = np.random.permutation(x_temp)\n",
    "x_train = x_temp[:int(ratioTrainTest*len(X_train))]\n",
    "x_test = x_temp[int(ratioTrainTest*len(X_train)):]\n",
    "autoencoder = cae.CAE(slicesSize,nbNeuronsLayers=[16, 8, 8], nbConvFilters=(3,3), poolScale=(2, 2))\n",
    "autoencoder.createModel()\n",
    "autoencoder.train(x_train, x_test, epochs=300, batch_size=64)"
   ]
  },
  {
   "cell_type": "code",
   "execution_count": 18,
   "metadata": {},
   "outputs": [
    {
     "name": "stdout",
     "output_type": "stream",
     "text": [
      "(7, 289, 4, 4, 8)\n",
      "(12, 289, 4, 4, 8)\n",
      "(14, 289, 4, 4, 8)\n",
      "deltaError= 0.011968583799898624\n",
      "NA_0209.jpg  - classe :  1\n",
      "NA_0247.jpg  - classe :  -1\n",
      "NA_0244.jpg  - classe :  1\n",
      "NA_0268.jpg  - classe :  1\n",
      "NA_0240.jpg  - classe :  -1\n",
      "NA_0267.jpg  - classe :  1\n",
      "NA_0266.jpg  - classe :  1\n",
      "NA_0261.jpg  - classe :  -1\n",
      "NA_0212.jpg  - classe :  1\n",
      "NA_0216.jpg  - classe :  1\n",
      "NA_0203.jpg  - classe :  1\n",
      "NA_0200.jpg  - classe :  1\n",
      "A_0254.jpg  - classe :  -1\n",
      "A_0255.jpg  - classe :  -1\n",
      "A_0241.jpg  - classe :  -1\n",
      "A_0257.jpg  - classe :  -1\n",
      "A_0242.jpg  - classe :  -1\n",
      "A_0256.jpg  - classe :  -1\n",
      "A_0253.jpg  - classe :  -1\n",
      "A_0251.jpg  - classe :  -1\n",
      "A_0236.jpg  - classe :  -1\n",
      "A_0205.jpg  - classe :  1\n",
      "A_0249.jpg  - classe :  -1\n",
      "A_0248.jpg  - classe :  -1\n",
      "A_0258.jpg  - classe :  -1\n",
      "A_0259.jpg  - classe :  -1\n"
     ]
    }
   ],
   "source": [
    "X_train_features = []\n",
    "for img in X_train:\n",
    "    X_train_features.append(autoencoder.extractFeatures(img))\n",
    "X_train_features = np.array(X_train_features)\n",
    "print(X_train_features.shape)\n",
    "\n",
    "X_normal_features = []\n",
    "for img in X_normal:\n",
    "    X_normal_features.append(autoencoder.extractFeatures(img))\n",
    "X_normal_features = np.array(X_normal_features)\n",
    "print(X_normal_features.shape)\n",
    "\n",
    "X_anomaly_features = []\n",
    "for img in X_anomaly:\n",
    "    X_anomaly_features.append(autoencoder.extractFeatures(img))\n",
    "X_anomaly_features = np.array(X_anomaly_features)\n",
    "print(X_anomaly_features.shape)\n",
    "\n",
    "train_distances = []\n",
    "for img_index in range(X_train_features.shape[0]):\n",
    "    slices_distances = []\n",
    "    for slice_img in X_train_features[img_index]:\n",
    "        slices_distances.append(get_neighbors(X_train_features.reshape(-1, X_train_features.shape[2], X_train_features.shape[3], X_train_features.shape[4]), slice_img, 5))\n",
    "    train_distances.append(np.mean(slices_distances))\n",
    "    #print(trainFilenames[img_index], \" - mean : \", np.mean(slices_distances))\n",
    "\n",
    "deltaError = np.percentile(train_distances, 75)\n",
    "print(\"deltaError=\", deltaError)\n",
    "\n",
    "test_distances = []\n",
    "for img_index in range(X_normal_features.shape[0]):\n",
    "    slices_distances = []\n",
    "    for slice_img in X_normal_features[img_index]:\n",
    "        slices_distances.append(get_neighbors(X_train_features.reshape(-1, X_train_features.shape[2], X_train_features.shape[3], X_train_features.shape[4]), slice_img, 4))\n",
    "    mean = np.mean(slices_distances)\n",
    "    if mean < deltaError:\n",
    "        classe = 1\n",
    "    else:\n",
    "        classe = -1\n",
    "    print(normalFilenames[img_index], \" - classe : \", classe)\n",
    "    test_distances.append(classe)\n",
    "    \n",
    "for img_index in range(X_anomaly_features.shape[0]):\n",
    "    slices_distances = []\n",
    "    for slice_img in X_anomaly_features[img_index]:\n",
    "        slices_distances.append(get_neighbors(X_train_features.reshape(-1, X_train_features.shape[2], X_train_features.shape[3], X_train_features.shape[4]), slice_img, 4))\n",
    "    mean = np.mean(slices_distances)\n",
    "    if mean < deltaError:\n",
    "        classe = 1\n",
    "    else:\n",
    "        classe = -1\n",
    "    test_distances.append(classe)\n",
    "    print(anomalyFilenames[img_index], \" - classe : \", classe)\n",
    "    \n",
    "    "
   ]
  },
  {
   "cell_type": "code",
   "execution_count": 19,
   "metadata": {},
   "outputs": [
    {
     "data": {
      "image/png": "[encoded data removed]",
      "text/plain": [
       "<matplotlib.figure.Figure at 0x1c40a86ba8>"
      ]
     },
     "metadata": {},
     "output_type": "display_data"
    }
   ],
   "source": [
    "conf_mat = confusion_matrix(test_distances, [1]*len(X_normal_features) + [-1]*len(X_anomaly_features))\n",
    "\n",
    "def plot_confusion_matrix(cm, title='Confusion matrix', cmap=plt.cm.Blues):     \n",
    "    labels_names_ref = [\"Anomalie\", \"Normal\"]\n",
    "        \n",
    "    plt.imshow(cm, interpolation='nearest', cmap=cmap)\n",
    "    plt.title(title)\n",
    "    plt.colorbar()\n",
    "    tick_marks = np.arange(len(labels_names_ref))\n",
    "    plt.xticks(tick_marks, labels_names_ref, rotation=45)\n",
    "    plt.yticks(tick_marks, labels_names_ref)\n",
    "    plt.tight_layout()\n",
    "    plt.ylabel('Predicted label')\n",
    "    plt.xlabel('True label')\n",
    "\n",
    "    thresh = cm.max() / 2.\n",
    "    for i, j in itertools.product(range(cm.shape[0]), range(cm.shape[1])):\n",
    "        plt.text(j, i, format(cm[i, j]),\n",
    "                 horizontalalignment=\"center\",\n",
    "                 color=\"white\" if cm[i, j] > thresh else \"black\")\n",
    "        \n",
    "plot_confusion_matrix(conf_mat)"
   ]
  },
  {
   "cell_type": "code",
   "execution_count": 21,
   "metadata": {},
   "outputs": [
    {
     "name": "stdout",
     "output_type": "stream",
     "text": [
      "Accuracy: 0.8461538461538461\n",
      "Precision:  0.8392857142857143\n",
      "Recall:  0.85625\n",
      "F1-Score:  0.84768299104792\n"
     ]
    }
   ],
   "source": [
    "print(\"Accuracy:\", accuracy_score(test_distances, [1]*len(X_normal_features) + [-1]*len(X_anomaly_features)))\n",
    "precision = (conf_mat[0][0]/(conf_mat[0][0] + conf_mat[1][0]) + conf_mat[1][1]/(conf_mat[1][1] + conf_mat[0][1]))/2\n",
    "print(\"Precision: \", precision)\n",
    "recall = (conf_mat[0][0]/(conf_mat[0][0] + conf_mat[0][1]) + conf_mat[1][1]/(conf_mat[1][1] + conf_mat[1][0]))/2\n",
    "print(\"Recall: \", recall)\n",
    "f1score = 2*(precision*recall)/(precision+recall)\n",
    "print(\"F1-Score: \", f1score)"
   ]
  },
  {
   "cell_type": "code",
   "execution_count": null,
   "metadata": {},
   "outputs": [],
   "source": []
  }
 ],
 "metadata": {
  "kernelspec": {
   "display_name": "Python 3",
   "language": "python",
   "name": "python3"
  },
  "language_info": {
   "codemirror_mode": {
    "name": "ipython",
    "version": 3
   },
   "file_extension": ".py",
   "mimetype": "text/x-python",
   "name": "python",
   "nbconvert_exporter": "python",
   "pygments_lexer": "ipython3",
   "version": "3.6.4"
  }
 },
 "nbformat": 4,
 "nbformat_minor": 2
}
